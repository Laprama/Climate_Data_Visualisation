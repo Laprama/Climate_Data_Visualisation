{
 "cells": [
  {
   "cell_type": "markdown",
   "id": "27fe0be6-8239-47d7-b246-be7cda264130",
   "metadata": {},
   "source": [
    "Here I want to generate means over a day or over a number of days so that I can generate a plot with the mean data"
   ]
  },
  {
   "cell_type": "code",
   "execution_count": 1,
   "id": "8d04e3b1-df22-429d-af0c-84c8cefe79c9",
   "metadata": {},
   "outputs": [],
   "source": [
    "import matplotlib.pyplot as plt\n",
    "import numpy as np\n",
    "import xarray as xr\n",
    "import cartopy.crs as ccrs\n",
    "import cartopy.feature as cfeature\n",
    "from shapely.geometry import Point\n",
    "import geopandas as gpd\n",
    "from cartopy.io import shapereader\n",
    "import glob"
   ]
  },
  {
   "cell_type": "code",
   "execution_count": 3,
   "id": "dd6f6e97-84de-4bd6-bd3d-f9ea8eceff2a",
   "metadata": {},
   "outputs": [],
   "source": [
    "f_name = 'Data/' + 'ESACCI-GHG-L2-CH4-CO-TROPOMI-WFMD-20240301-fv3.nc'\n",
    "ds = xr.open_dataset(f_name)"
   ]
  },
  {
   "cell_type": "code",
   "execution_count": 4,
   "id": "0a8d0880-aac5-4fca-83f9-10acf2865291",
   "metadata": {},
   "outputs": [],
   "source": [
    "# Extract and clean\n",
    "lat = ds['latitude']\n",
    "lon = ds['longitude']\n",
    "xch4 = ds['xch4']"
   ]
  },
  {
   "cell_type": "code",
   "execution_count": 5,
   "id": "e9634c28-70fc-4109-9d10-16c895a8c30d",
   "metadata": {},
   "outputs": [],
   "source": [
    "# Mask invalid values\n",
    "valid = (xch4 > 0) & (~xch4.isnull())\n",
    "lat_valid = lat.where(valid, drop=True)\n",
    "lon_valid = lon.where(valid, drop=True)\n",
    "xch4_valid = xch4.where(valid, drop=True)"
   ]
  },
  {
   "cell_type": "code",
   "execution_count": 6,
   "id": "1b9b3344-0b4b-4808-b650-32ded655e8e6",
   "metadata": {},
   "outputs": [],
   "source": [
    "# Round lat/lon to 2 decimal places to bin similar points\n",
    "lat_rounded = lat_valid.round(2)\n",
    "lon_rounded = lon_valid.round(2)"
   ]
  },
  {
   "cell_type": "code",
   "execution_count": null,
   "id": "7bfcaa68-6a25-44a1-b674-2dc35332bc7f",
   "metadata": {},
   "outputs": [],
   "source": [
    "import xarray as xr\n",
    "import matplotlib.pyplot as plt\n",
    "import cartopy.crs as ccrs\n",
    "import numpy as np\n",
    "import pandas as pd\n",
    "\n",
    "# Load data\n",
    "f_name = 'Data/ESACCI-GHG-L2-CH4-CO-TROPOMI-WFMD-20240301-fv3.nc'\n",
    "ds = xr.open_dataset(f_name)\n",
    "\n",
    "# Extract and clean\n",
    "lat = ds['latitude']\n",
    "lon = ds['longitude']\n",
    "xch4 = ds['xch4']\n",
    "\n",
    "# Mask invalid values\n",
    "valid = (xch4 > 0) & (~xch4.isnull())\n",
    "lat_valid = lat.where(valid, drop=True)\n",
    "lon_valid = lon.where(valid, drop=True)\n",
    "xch4_valid = xch4.where(valid, drop=True)\n",
    "\n",
    "# Round lat/lon to 2 decimal places to bin similar points\n",
    "lat_rounded = lat_valid.round(2)\n",
    "lon_rounded = lon_valid.round(2)\n",
    "\n",
    "# Convert to pandas DataFrame\n",
    "df = pd.DataFrame({\n",
    "    'lat': lat_rounded.values,\n",
    "    'lon': lon_rounded.values,\n",
    "    'xch4': xch4_valid.values\n",
    "})\n",
    "\n",
    "# Drop any remaining NaNs\n",
    "df = df.dropna()\n",
    "\n",
    "# Group by lat-lon and compute mean\n",
    "mean_df = df.groupby(['lat', 'lon'], as_index=False).mean()\n"
   ]
  }
 ],
 "metadata": {
  "kernelspec": {
   "display_name": "Python 3 (ipykernel)",
   "language": "python",
   "name": "python3"
  },
  "language_info": {
   "codemirror_mode": {
    "name": "ipython",
    "version": 3
   },
   "file_extension": ".py",
   "mimetype": "text/x-python",
   "name": "python",
   "nbconvert_exporter": "python",
   "pygments_lexer": "ipython3",
   "version": "3.13.5"
  }
 },
 "nbformat": 4,
 "nbformat_minor": 5
}
