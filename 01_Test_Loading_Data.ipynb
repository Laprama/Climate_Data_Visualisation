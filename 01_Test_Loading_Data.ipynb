{
 "cells": [
  {
   "cell_type": "markdown",
   "id": "555054c8-7bb4-4df9-8192-e430f0ee65d7",
   "metadata": {},
   "source": [
    "First notebook to test loading the atmospheric data in the xarray format and plotting it"
   ]
  },
  {
   "cell_type": "code",
   "execution_count": null,
   "id": "795ef313-d2d3-43de-a9d2-dcb20a2f2c6a",
   "metadata": {},
   "outputs": [],
   "source": []
  }
 ],
 "metadata": {
  "kernelspec": {
   "display_name": "Python 3 (ipykernel)",
   "language": "python",
   "name": "python3"
  },
  "language_info": {
   "codemirror_mode": {
    "name": "ipython",
    "version": 3
   },
   "file_extension": ".py",
   "mimetype": "text/x-python",
   "name": "python",
   "nbconvert_exporter": "python",
   "pygments_lexer": "ipython3",
   "version": "3.13.5"
  }
 },
 "nbformat": 4,
 "nbformat_minor": 5
}
